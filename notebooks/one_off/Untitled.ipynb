{
 "cells": [
  {
   "cell_type": "code",
   "execution_count": 11,
   "metadata": {},
   "outputs": [],
   "source": [
    "import rasterio\n",
    "from skimage.restoration import denoise_tv_bregman\n",
    "from skimage.segmentation import felzenszwalb\n",
    "import numpy as np\n",
    "import matplotlib.pyplot as plt\n",
    "from srspy import (get_fz_superpixels, \n",
    "                   get_superpixel_means_as_features, \n",
    "                   get_superpixel_stds_as_features, \n",
    "                   get_array_from_features)"
   ]
  },
  {
   "cell_type": "code",
   "execution_count": 4,
   "metadata": {},
   "outputs": [],
   "source": [
    "with rasterio.open('hv_als.tif') as ds:\n",
    "    hv_als = ds.read(1)\n",
    "    \n",
    "with rasterio.open('hv_srtm.tif') as ds:\n",
    "    hv_srtm = ds.read(1)"
   ]
  },
  {
   "cell_type": "code",
   "execution_count": 5,
   "metadata": {},
   "outputs": [
    {
     "data": {
      "text/plain": [
       "<matplotlib.image.AxesImage at 0x7fa0a93b8c18>"
      ]
     },
     "execution_count": 5,
     "metadata": {},
     "output_type": "execute_result"
    },
    {
     "data": {
      "image/png": "[encoded data removed]",
      "text/plain": [
       "<Figure size 432x288 with 1 Axes>"
      ]
     },
     "metadata": {
      "needs_background": "light"
     },
     "output_type": "display_data"
    }
   ],
   "source": [
    "plt.imshow(hv_srtm, vmax=.15)"
   ]
  },
  {
   "cell_type": "code",
   "execution_count": 7,
   "metadata": {},
   "outputs": [],
   "source": [
    "mask = np.isnan(hv_srtm)\n",
    "labels = get_fz_superpixels(hv_srtm, mask=mask)"
   ]
  },
  {
   "cell_type": "code",
   "execution_count": 12,
   "metadata": {},
   "outputs": [],
   "source": [
    "superpixel_means_srtm_f = get_superpixel_means_as_features(labels, hv_srtm)\n",
    "superpixel_std_srtm_f = get_superpixel_stds_as_features(labels, hv_srtm)"
   ]
  },
  {
   "cell_type": "code",
   "execution_count": 13,
   "metadata": {},
   "outputs": [],
   "source": [
    "superpixel_means_als_f = get_superpixel_means_as_features(labels, hv_als)\n",
    "superpixel_std_als_f = get_superpixel_stds_as_features(labels, hv_als)"
   ]
  },
  {
   "cell_type": "code",
   "execution_count": 16,
   "metadata": {},
   "outputs": [
    {
     "data": {
      "text/plain": [
       "(array([  1.,  59., 290., 732., 972., 983., 892., 677., 515., 399., 336.,\n",
       "        275., 212., 170., 161., 119.,  99.,  86.,  95.,  74.,  94.,  68.,\n",
       "         62.,  53.,  64.,  35.,  44.,  32.,  35.,  27.,  27.,  14.,  16.,\n",
       "         18.,  14.,  15.,  14.,   7.,   6.,  11.,   4.,   7.,   3.,   8.,\n",
       "          2.,   5.,   0.,   2.,   3.,   1.,   3.,   2.,   0.,   1.,   0.,\n",
       "          1.,   4.,   0.,   1.,   3.,   0.,   1.,   2.,   1.,   0.,   0.,\n",
       "          1.,   1.,   0.,   1.,   1.,   0.,   0.,   0.,   0.,   1.,   0.,\n",
       "          1.,   2.,   1.,   0.,   0.,   1.,   0.,   0.,   0.,   0.,   0.,\n",
       "          0.,   0.,   0.,   0.,   0.,   0.,   0.,   0.,   0.,   0.,   0.,\n",
       "          0.]),\n",
       " array([0.  , 0.05, 0.1 , 0.15, 0.2 , 0.25, 0.3 , 0.35, 0.4 , 0.45, 0.5 ,\n",
       "        0.55, 0.6 , 0.65, 0.7 , 0.75, 0.8 , 0.85, 0.9 , 0.95, 1.  , 1.05,\n",
       "        1.1 , 1.15, 1.2 , 1.25, 1.3 , 1.35, 1.4 , 1.45, 1.5 , 1.55, 1.6 ,\n",
       "        1.65, 1.7 , 1.75, 1.8 , 1.85, 1.9 , 1.95, 2.  , 2.05, 2.1 , 2.15,\n",
       "        2.2 , 2.25, 2.3 , 2.35, 2.4 , 2.45, 2.5 , 2.55, 2.6 , 2.65, 2.7 ,\n",
       "        2.75, 2.8 , 2.85, 2.9 , 2.95, 3.  , 3.05, 3.1 , 3.15, 3.2 , 3.25,\n",
       "        3.3 , 3.35, 3.4 , 3.45, 3.5 , 3.55, 3.6 , 3.65, 3.7 , 3.75, 3.8 ,\n",
       "        3.85, 3.9 , 3.95, 4.  , 4.05, 4.1 , 4.15, 4.2 , 4.25, 4.3 , 4.35,\n",
       "        4.4 , 4.45, 4.5 , 4.55, 4.6 , 4.65, 4.7 , 4.75, 4.8 , 4.85, 4.9 ,\n",
       "        4.95, 5.  ]),\n",
       " <a list of 100 Patch objects>)"
      ]
     },
     "execution_count": 16,
     "metadata": {},
     "output_type": "execute_result"
    },
    {
     "data": {
      "image/png": "[encoded data removed]",
      "text/plain": [
       "<Figure size 432x288 with 1 Axes>"
      ]
     },
     "metadata": {
      "needs_background": "light"
     },
     "output_type": "display_data"
    }
   ],
   "source": [
    "coef_var_srtm = superpixel_std_srtm_f / superpixel_means_srtm_f\n",
    "data_srtm = coef_var_srtm[~np.isnan(coef_var_srtm)]\n",
    "plt.hist(data_srtm, range=(0, 5), bins=100)"
   ]
  },
  {
   "cell_type": "code",
   "execution_count": 18,
   "metadata": {},
   "outputs": [
    {
     "data": {
      "text/plain": [
       "DescribeResult(nobs=7872, minmax=(0.032908586539851716, 12.139830956650856), mean=0.48084101797649725, variance=0.18971069331148993, skewness=6.993179656268706, kurtosis=127.7538657601641)"
      ]
     },
     "execution_count": 18,
     "metadata": {},
     "output_type": "execute_result"
    }
   ],
   "source": [
    "import scipy.stats\n",
    "\n",
    "scipy.stats.describe(data_srtm)"
   ]
  },
  {
   "cell_type": "code",
   "execution_count": 21,
   "metadata": {},
   "outputs": [
    {
     "data": {
      "text/plain": [
       "(array([  1.,  47., 107., 267., 522., 840., 930., 881., 758., 599., 527.,\n",
       "        364., 299., 243., 186., 152., 137., 112., 117.,  81.,  69.,  77.,\n",
       "         47.,  56.,  52.,  51.,  39.,  30.,  11.,  38.,  23.,  12.,  20.,\n",
       "         23.,  15.,  12.,   7.,  13.,  13.,   5.,  11.,   5.,   4.,   2.,\n",
       "          3.,   4.,   4.,   4.,   3.,   1.,   2.,   3.,   4.,   1.,   1.,\n",
       "          4.,   2.,   2.,   2.,   1.,   1.,   0.,   1.,   0.,   0.,   1.,\n",
       "          2.,   2.,   1.,   1.,   0.,   2.,   1.,   3.,   1.,   2.,   1.,\n",
       "          0.,   0.,   0.,   1.,   1.,   0.,   0.,   0.,   0.,   0.,   1.,\n",
       "          0.,   0.,   0.,   0.,   0.,   0.,   0.,   1.,   0.,   0.,   0.,\n",
       "          0.]),\n",
       " array([0.  , 0.05, 0.1 , 0.15, 0.2 , 0.25, 0.3 , 0.35, 0.4 , 0.45, 0.5 ,\n",
       "        0.55, 0.6 , 0.65, 0.7 , 0.75, 0.8 , 0.85, 0.9 , 0.95, 1.  , 1.05,\n",
       "        1.1 , 1.15, 1.2 , 1.25, 1.3 , 1.35, 1.4 , 1.45, 1.5 , 1.55, 1.6 ,\n",
       "        1.65, 1.7 , 1.75, 1.8 , 1.85, 1.9 , 1.95, 2.  , 2.05, 2.1 , 2.15,\n",
       "        2.2 , 2.25, 2.3 , 2.35, 2.4 , 2.45, 2.5 , 2.55, 2.6 , 2.65, 2.7 ,\n",
       "        2.75, 2.8 , 2.85, 2.9 , 2.95, 3.  , 3.05, 3.1 , 3.15, 3.2 , 3.25,\n",
       "        3.3 , 3.35, 3.4 , 3.45, 3.5 , 3.55, 3.6 , 3.65, 3.7 , 3.75, 3.8 ,\n",
       "        3.85, 3.9 , 3.95, 4.  , 4.05, 4.1 , 4.15, 4.2 , 4.25, 4.3 , 4.35,\n",
       "        4.4 , 4.45, 4.5 , 4.55, 4.6 , 4.65, 4.7 , 4.75, 4.8 , 4.85, 4.9 ,\n",
       "        4.95, 5.  ]),\n",
       " <a list of 100 Patch objects>)"
      ]
     },
     "execution_count": 21,
     "metadata": {},
     "output_type": "execute_result"
    },
    {
     "data": {
      "image/png": "[encoded data removed]",
      "text/plain": [
       "<Figure size 432x288 with 1 Axes>"
      ]
     },
     "metadata": {
      "needs_background": "light"
     },
     "output_type": "display_data"
    }
   ],
   "source": [
    "coef_var_als = superpixel_std_als_f / superpixel_means_als_f\n",
    "data_als = coef_var_als[~np.isnan(coef_var_als)]\n",
    "plt.hist(data_als, range=(0, 5), bins=100)"
   ]
  },
  {
   "cell_type": "code",
   "execution_count": 22,
   "metadata": {},
   "outputs": [
    {
     "data": {
      "text/plain": [
       "DescribeResult(nobs=7872, minmax=(0.04560281716871941, 8.240556089397504), mean=0.5339200798710494, variance=0.1668699212959631, skewness=4.391314585973631, kurtosis=40.15056695338147)"
      ]
     },
     "execution_count": 22,
     "metadata": {},
     "output_type": "execute_result"
    }
   ],
   "source": [
    "import scipy.stats\n",
    "\n",
    "scipy.stats.describe(data_als)"
   ]
  },
  {
   "cell_type": "code",
   "execution_count": null,
   "metadata": {},
   "outputs": [],
   "source": []
  }
 ],
 "metadata": {
  "kernelspec": {
   "display_name": "Python 3",
   "language": "python",
   "name": "python3"
  },
  "language_info": {
   "codemirror_mode": {
    "name": "ipython",
    "version": 3
   },
   "file_extension": ".py",
   "mimetype": "text/x-python",
   "name": "python",
   "nbconvert_exporter": "python",
   "pygments_lexer": "ipython3",
   "version": "3.7.3"
  }
 },
 "nbformat": 4,
 "nbformat_minor": 2
}
