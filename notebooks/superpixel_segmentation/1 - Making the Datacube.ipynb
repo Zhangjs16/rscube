{
 "cells": [
  {
   "cell_type": "markdown",
   "metadata": {},
   "source": [
    "We take the 2019 hansen landsat mosaic along with ALOS-1 quad-pol data (to simulate NISAR) over the gulfcoast and turn it into a datacube.\n",
    "\n",
    "Ingredients:\n",
    "\n",
    "1. A shapefile indicating a rough Region of Interest (ROI)\n",
    "2. The hansen landsat [mosaic](https://earthenginepartners.appspot.com/science-2013-global-forest/download_v1.7.html) with:\n",
    "    + band 1 = Landsat 3 / blue \n",
    "    + band 2 = Landsat 4 / green\n",
    "    + band 3 = Landsat 5 / red\n",
    "    + band 4 = Landsat 7 / near infared\n",
    "    \n",
    "   \n",
    "3. ALOS-1 HH, HV, and VV backscatter imagery.\n",
    "\n",
    "This is the most efficient way we though of though this rasterio [example](https://rasterio.readthedocs.io/en/latest/topics/masking-by-shapefile.html) could possible make these scripts use less RAM. Overall, the general contour of the approach would be the same would be the same."
   ]
  },
  {
   "cell_type": "code",
   "execution_count": 1,
   "metadata": {},
   "outputs": [],
   "source": [
    "import rasterio\n",
    "from pathlib import Path\n",
    "from rscube import reproject_arr_to_match_profile, rasterize_shapes_to_array, get_cropped_profile\n",
    "import geopandas as gpd\n",
    "import numpy as np\n",
    "from tqdm import tqdm\n",
    "from itertools import starmap\n",
    "import matplotlib.pyplot as plt"
   ]
  },
  {
   "cell_type": "markdown",
   "metadata": {},
   "source": [
    "## Inspecting the ROI\n",
    "\n",
    "We first open the shape file with the ROI."
   ]
  },
  {
   "cell_type": "code",
   "execution_count": 2,
   "metadata": {},
   "outputs": [
    {
     "data": {
      "text/plain": [
       "<AxesSubplot:>"
      ]
     },
     "execution_count": 2,
     "metadata": {},
     "output_type": "execute_result"
    },
    {
     "data": {
      "image/png": "[encoded data removed]",
      "text/plain": [
       "<Figure size 432x288 with 1 Axes>"
      ]
     },
     "metadata": {
      "needs_background": "light"
     },
     "output_type": "display_data"
    }
   ],
   "source": [
    "df = gpd.read_file('data/ROI')\n",
    "df.plot()"
   ]
  },
  {
   "cell_type": "markdown",
   "metadata": {},
   "source": [
    "We want to take the bound  of the above shape and use it to reproject the data into roughly the same area."
   ]
  },
  {
   "cell_type": "code",
   "execution_count": 3,
   "metadata": {},
   "outputs": [
    {
     "data": {
      "text/html": [
       "<div>\n",
       "<style scoped>\n",
       "    .dataframe tbody tr th:only-of-type {\n",
       "        vertical-align: middle;\n",
       "    }\n",
       "\n",
       "    .dataframe tbody tr th {\n",
       "        vertical-align: top;\n",
       "    }\n",
       "\n",
       "    .dataframe thead th {\n",
       "        text-align: right;\n",
       "    }\n",
       "</style>\n",
       "<table border=\"1\" class=\"dataframe\">\n",
       "  <thead>\n",
       "    <tr style=\"text-align: right;\">\n",
       "      <th></th>\n",
       "      <th>minx</th>\n",
       "      <th>miny</th>\n",
       "      <th>maxx</th>\n",
       "      <th>maxy</th>\n",
       "    </tr>\n",
       "  </thead>\n",
       "  <tbody>\n",
       "    <tr>\n",
       "      <th>0</th>\n",
       "      <td>-91.604631</td>\n",
       "      <td>29.351072</td>\n",
       "      <td>-91.176264</td>\n",
       "      <td>29.753899</td>\n",
       "    </tr>\n",
       "  </tbody>\n",
       "</table>\n",
       "</div>"
      ],
      "text/plain": [
       "        minx       miny       maxx       maxy\n",
       "0 -91.604631  29.351072 -91.176264  29.753899"
      ]
     },
     "execution_count": 3,
     "metadata": {},
     "output_type": "execute_result"
    }
   ],
   "source": [
    "df.bounds"
   ]
  },
  {
   "cell_type": "markdown",
   "metadata": {},
   "source": [
    "The coordinate reference system (CRS) of the shapefile and rasters may not be the same - in this case our rasters are in UTM. If the shapefile has a different CRS, we would have to reproject it collecting the crs from the rasters below and then `df = df.to_crs(crs)`."
   ]
  },
  {
   "cell_type": "code",
   "execution_count": 6,
   "metadata": {},
   "outputs": [
    {
     "data": {
      "text/plain": [
       "{'init': 'epsg:32615'}"
      ]
     },
     "execution_count": 6,
     "metadata": {},
     "output_type": "execute_result"
    }
   ],
   "source": [
    "with rasterio.open('data/full_coverage/ALOS1_RTC_HH_201143_tv.tif') as ds:\n",
    "    profile = ds.profile\n",
    "    crs = dict(ds.crs)\n",
    "crs"
   ]
  },
  {
   "cell_type": "markdown",
   "metadata": {},
   "source": [
    "This is because our raster CRS and ROI shapefile are different."
   ]
  },
  {
   "cell_type": "code",
   "execution_count": 7,
   "metadata": {},
   "outputs": [
    {
     "name": "stderr",
     "output_type": "stream",
     "text": [
      "/Users/cmarshak/anaconda3/envs/rscube/lib/python3.7/site-packages/pyproj/crs/crs.py:53: FutureWarning: '+init=<authority>:<code>' syntax is deprecated. '<authority>:<code>' is the preferred initialization method. When making the change, be mindful of axis order changes: https://pyproj4.github.io/pyproj/stable/gotchas.html#axis-order-changes-in-proj-6\n",
      "  return _prepare_from_string(\" \".join(pjargs))\n"
     ]
    }
   ],
   "source": [
    "df = df.to_crs(crs)"
   ]
  },
  {
   "cell_type": "markdown",
   "metadata": {},
   "source": [
    "Now, we take the bounds and find the array slices using rasterio."
   ]
  },
  {
   "cell_type": "code",
   "execution_count": 8,
   "metadata": {},
   "outputs": [
    {
     "data": {
      "text/plain": [
       "([-704, 2852], [400, 3737])"
      ]
     },
     "execution_count": 8,
     "metadata": {},
     "output_type": "execute_result"
    }
   ],
   "source": [
    "rows, cols = rasterio.transform.rowcol(profile['transform'], \n",
    "                                       [df.bounds.minx, df.bounds.maxx], \n",
    "                                       [df.bounds.maxy, df.bounds.miny])\n",
    "rows, cols"
   ]
  },
  {
   "cell_type": "markdown",
   "metadata": {},
   "source": [
    "We could get negative values (as we do above), so we make sure that our slices begin and end within the bounds of our array."
   ]
  },
  {
   "cell_type": "code",
   "execution_count": 9,
   "metadata": {},
   "outputs": [
    {
     "data": {
      "text/plain": [
       "(slice(0, 2000, None), slice(400, 2700, None))"
      ]
     },
     "execution_count": 9,
     "metadata": {},
     "output_type": "execute_result"
    }
   ],
   "source": [
    "sy = np.s_[max(rows[0], 0): min(rows[1], profile['height'])]\n",
    "sx = np.s_[max(cols[0], 0): min(cols[1], profile['width'])]\n",
    "sy, sx"
   ]
  },
  {
   "cell_type": "markdown",
   "metadata": {},
   "source": [
    "Below, our geo-profile will allow us to reproject the other datasets into this reference frame."
   ]
  },
  {
   "cell_type": "code",
   "execution_count": 10,
   "metadata": {},
   "outputs": [
    {
     "data": {
      "text/plain": [
       "{'driver': 'GTiff', 'dtype': 'float32', 'nodata': 0.0, 'width': 2300, 'height': 2000, 'count': 1, 'crs': CRS.from_epsg(32615), 'transform': Affine(12.5, 0.0, 635062.375,\n",
       "       0.0, -12.5, 3283822.0), 'tiled': False, 'compress': 'packbits', 'interleave': 'band'}"
      ]
     },
     "execution_count": 10,
     "metadata": {},
     "output_type": "execute_result"
    }
   ],
   "source": [
    "cropped_profile = get_cropped_profile(profile, sx, sy)\n",
    "cropped_profile"
   ]
  },
  {
   "cell_type": "markdown",
   "metadata": {},
   "source": [
    "## Reading and Reprojecting the Rasters\n",
    "\n",
    "Now, we write very simple functions to apply to each of our rasters. One function to read and another to reproject."
   ]
  },
  {
   "cell_type": "code",
   "execution_count": 12,
   "metadata": {},
   "outputs": [],
   "source": [
    "REFERENCE_PROFILE = cropped_profile.copy()\n",
    "\n",
    "def read_one(path, k=1):\n",
    "    with rasterio.open(path) as ds:\n",
    "        arr = ds.read(k)\n",
    "    return arr"
   ]
  },
  {
   "cell_type": "markdown",
   "metadata": {},
   "source": [
    "In this step, we read each of the raster datasets. Note the hansen dataset is very large and will take both time and RAM."
   ]
  },
  {
   "cell_type": "code",
   "execution_count": 13,
   "metadata": {},
   "outputs": [
    {
     "name": "stderr",
     "output_type": "stream",
     "text": [
      "100%|██████████| 4/4 [01:24<00:00, 21.15s/it]\n",
      "100%|██████████| 3/3 [00:00<00:00, 28.89it/s]\n"
     ]
    }
   ],
   "source": [
    "arrays = [read_one('data/full_coverage/Hansen_GFC-2019-v1.7_last_30N_100W.tif', k) for k in tqdm(range(1, 5))]\n",
    "arrays += [read_one(path) for path in tqdm(Path('data/full_coverage/').glob('ALOS1*.tif'), total=3)]"
   ]
  },
  {
   "cell_type": "markdown",
   "metadata": {},
   "source": [
    "We want to reproject the above datasets. We will collect the source metadata from each dataset."
   ]
  },
  {
   "cell_type": "code",
   "execution_count": 14,
   "metadata": {},
   "outputs": [],
   "source": [
    "with rasterio.open('data/full_coverage/Hansen_GFC-2019-v1.7_last_30N_100W.tif') as ds:\n",
    "    hansen_profile = ds.profile\n",
    "    # The original hansen dataset has 4 bands (i.e. `count = 4`), but we are saving each band\n",
    "    # as it's own raster.\n",
    "    hansen_profile['count'] = 1\n",
    "with rasterio.open('data/full_coverage/ALOS1_RTC_HH_201143_tv.tif') as ds:\n",
    "    alos_profile = ds.profile\n",
    "    \n",
    "profiles = [hansen_profile] * 4 + [alos_profile] * 3"
   ]
  },
  {
   "cell_type": "code",
   "execution_count": 16,
   "metadata": {},
   "outputs": [],
   "source": [
    "def reproject_one(arr, profile):\n",
    "    \n",
    "    img_r, _ = reproject_arr_to_match_profile(arr, \n",
    "                                              profile, \n",
    "                                              REFERENCE_PROFILE, \n",
    "                                              resampling='bilinear')\n",
    "    \n",
    "    return img_r"
   ]
  },
  {
   "cell_type": "code",
   "execution_count": 17,
   "metadata": {},
   "outputs": [
    {
     "name": "stderr",
     "output_type": "stream",
     "text": [
      "100%|██████████| 7/7 [00:05<00:00,  1.29it/s]\n"
     ]
    }
   ],
   "source": [
    "arrs_r = list(starmap(reproject_one, zip(tqdm(arrays), profiles)))"
   ]
  },
  {
   "cell_type": "markdown",
   "metadata": {},
   "source": [
    "## Masking"
   ]
  },
  {
   "cell_type": "code",
   "execution_count": 18,
   "metadata": {},
   "outputs": [
    {
     "data": {
      "text/plain": [
       "<matplotlib.image.AxesImage at 0x7f94486bd150>"
      ]
     },
     "execution_count": 18,
     "metadata": {},
     "output_type": "execute_result"
    },
    {
     "data": {
      "image/png": "[encoded data removed]",
      "text/plain": [
       "<Figure size 432x288 with 1 Axes>"
      ]
     },
     "metadata": {
      "needs_background": "light"
     },
     "output_type": "display_data"
    }
   ],
   "source": [
    "masks = [np.isnan(arr)[0, ...] for arr in arrs_r]\n",
    "mask = np.logical_or.reduce(masks)\n",
    "plt.imshow(mask)"
   ]
  },
  {
   "cell_type": "markdown",
   "metadata": {},
   "source": [
    "Now, we also want to use the ROI shapefile to mask. To do this, we need to \"rasterize\" the shapefile."
   ]
  },
  {
   "cell_type": "code",
   "execution_count": 19,
   "metadata": {},
   "outputs": [
    {
     "data": {
      "text/plain": [
       "[<shapely.geometry.polygon.Polygon at 0x7f93c851dc50>]"
      ]
     },
     "execution_count": 19,
     "metadata": {},
     "output_type": "execute_result"
    }
   ],
   "source": [
    "df.geometry.tolist()"
   ]
  },
  {
   "cell_type": "code",
   "execution_count": 20,
   "metadata": {},
   "outputs": [
    {
     "data": {
      "text/plain": [
       "<matplotlib.image.AxesImage at 0x7f93984c1610>"
      ]
     },
     "execution_count": 20,
     "metadata": {},
     "output_type": "execute_result"
    },
    {
     "data": {
      "image/png": "[encoded data removed]",
      "text/plain": [
       "<Figure size 432x288 with 1 Axes>"
      ]
     },
     "metadata": {
      "needs_background": "light"
     },
     "output_type": "display_data"
    }
   ],
   "source": [
    "roi_mask = rasterize_shapes_to_array(df.geometry.tolist(), \n",
    "                                     [1] * df.shape[0], \n",
    "                                     cropped_profile)\n",
    "roi_mask = ~roi_mask.astype(bool)\n",
    "plt.imshow(roi_mask)"
   ]
  },
  {
   "cell_type": "markdown",
   "metadata": {},
   "source": [
    "If we wanted to include this specific mask, we would uncomment the second line below. However, we are going to leave our rasters simply cropped and not further mask them."
   ]
  },
  {
   "cell_type": "code",
   "execution_count": 21,
   "metadata": {},
   "outputs": [
    {
     "data": {
      "text/plain": [
       "<matplotlib.image.AxesImage at 0x7f9438703dd0>"
      ]
     },
     "execution_count": 21,
     "metadata": {},
     "output_type": "execute_result"
    },
    {
     "data": {
      "image/png": "[encoded data removed]",
      "text/plain": [
       "<Figure size 432x288 with 1 Axes>"
      ]
     },
     "metadata": {
      "needs_background": "light"
     },
     "output_type": "display_data"
    }
   ],
   "source": [
    "plt.imshow(mask | roi_mask)\n",
    "# mask = mask | roi_mask"
   ]
  },
  {
   "cell_type": "markdown",
   "metadata": {},
   "source": [
    "To ensure that all the data has the `nodata` areas, we mask each raster according to the mask above."
   ]
  },
  {
   "cell_type": "code",
   "execution_count": 22,
   "metadata": {},
   "outputs": [],
   "source": [
    "def mask_arr(arr):\n",
    "    arr_ = arr.astype(np.float32)\n",
    "    arr_[0,...][mask] = np.nan\n",
    "    return arr_\n",
    "\n",
    "arrs_r_masked = list(map(mask_arr, arrs_r))"
   ]
  },
  {
   "cell_type": "markdown",
   "metadata": {},
   "source": [
    "## Writing the datacube"
   ]
  },
  {
   "cell_type": "code",
   "execution_count": 23,
   "metadata": {},
   "outputs": [],
   "source": [
    "def write_one(arr, dest_path):\n",
    "    with rasterio.open(dest_path, 'w', **REFERENCE_PROFILE) as ds:\n",
    "        ds.write(arr.astype(np.float32))\n",
    "    return dest_path"
   ]
  },
  {
   "cell_type": "code",
   "execution_count": 24,
   "metadata": {},
   "outputs": [],
   "source": [
    "dest_dir = Path('data/datacube_ROI')\n",
    "dest_dir.mkdir(exist_ok=True, parents=True)"
   ]
  },
  {
   "cell_type": "code",
   "execution_count": 27,
   "metadata": {},
   "outputs": [],
   "source": [
    "dest_paths = ([f'hansen_{k}.tif' for k in [3, 4, 5, 7]] \n",
    "              + [path.name for path in Path('data/full_coverage/').glob('ALOS*.tif')])\n",
    "dest_paths = [dest_dir/path for path in dest_paths]"
   ]
  },
  {
   "cell_type": "code",
   "execution_count": 28,
   "metadata": {},
   "outputs": [
    {
     "name": "stderr",
     "output_type": "stream",
     "text": [
      "100%|██████████| 7/7 [00:00<00:00,  9.38it/s]\n"
     ]
    },
    {
     "data": {
      "text/plain": [
       "[PosixPath('data/datacube_ROI/hansen_3.tif'),\n",
       " PosixPath('data/datacube_ROI/hansen_4.tif'),\n",
       " PosixPath('data/datacube_ROI/hansen_5.tif'),\n",
       " PosixPath('data/datacube_ROI/hansen_7.tif'),\n",
       " PosixPath('data/datacube_ROI/ALOS1_RTC_HV_201143_tv.tif'),\n",
       " PosixPath('data/datacube_ROI/ALOS1_RTC_HH_201143_tv.tif'),\n",
       " PosixPath('data/datacube_ROI/ALOS1_RTC_VV_201143_tv.tif')]"
      ]
     },
     "execution_count": 28,
     "metadata": {},
     "output_type": "execute_result"
    }
   ],
   "source": [
    "list(starmap(write_one, zip(tqdm(arrs_r_masked), dest_paths)))"
   ]
  },
  {
   "cell_type": "code",
   "execution_count": null,
   "metadata": {},
   "outputs": [],
   "source": []
  }
 ],
 "metadata": {
  "kernelspec": {
   "display_name": "rscube",
   "language": "python",
   "name": "rscube"
  },
  "language_info": {
   "codemirror_mode": {
    "name": "ipython",
    "version": 3
   },
   "file_extension": ".py",
   "mimetype": "text/x-python",
   "name": "python",
   "nbconvert_exporter": "python",
   "pygments_lexer": "ipython3",
   "version": "3.7.8"
  }
 },
 "nbformat": 4,
 "nbformat_minor": 2
}
