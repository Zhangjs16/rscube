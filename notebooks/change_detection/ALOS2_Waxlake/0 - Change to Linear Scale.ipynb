{
 "cells": [
  {
   "cell_type": "markdown",
   "metadata": {},
   "source": [
    "The change detection requires linear scale images (not db). So we update the tifs accordingly."
   ]
  },
  {
   "cell_type": "code",
   "execution_count": 1,
   "metadata": {},
   "outputs": [],
   "source": [
    "import rasterio\n",
    "from pathlib import Path\n",
    "import numpy as np\n",
    "from itertools import starmap\n",
    "from tqdm import tqdm"
   ]
  },
  {
   "cell_type": "code",
   "execution_count": 2,
   "metadata": {},
   "outputs": [
    {
     "data": {
      "text/plain": [
       "[PosixPath('data/db/HH_plus32dB_WGS84/HH_181025_plus32dB_WGS84.tif'),\n",
       " PosixPath('data/db/HH_plus32dB_WGS84/HH_190131_plus32dB_WGS84.tif'),\n",
       " PosixPath('data/db/HH_plus32dB_WGS84/HH_160808_plus32dB_WGS84.tif'),\n",
       " PosixPath('data/db/HH_plus32dB_WGS84/HH_160623_plus32dB_WGS84.tif'),\n",
       " PosixPath('data/db/HH_plus32dB_WGS84/HH_160915_plus32dB_WGS84.tif'),\n",
       " PosixPath('data/db/HH_plus32dB_WGS84/HH_190815_plus32dB_WGS84.tif'),\n",
       " PosixPath('data/db/HH_plus32dB_WGS84/HH_161013_plus32dB_WGS84.tif'),\n",
       " PosixPath('data/db/HH_plus32dB_WGS84/HH_190117_plus32dB_WGS84.tif'),\n",
       " PosixPath('data/db/HH_plus32dB_WGS84/HH_181206_plus32dB_WGS84.tif'),\n",
       " PosixPath('data/db/HH_plus32dB_WGS84/HH_180927_plus32dB_WGS84.tif'),\n",
       " PosixPath('data/db/HH_plus32dB_WGS84/HH_160929_plus32dB_WGS84.tif'),\n",
       " PosixPath('data/db/HH_plus32dB_WGS84/HH_190214_plus32dB_WGS84.tif'),\n",
       " PosixPath('data/db/HH_plus32dB_WGS84/HH_190829_plus32dB_WGS84.tif'),\n",
       " PosixPath('data/db/HH_plus32dB_WGS84/HH_181011_plus32dB_WGS84.tif'),\n",
       " PosixPath('data/db/HH_plus32dB_WGS84/HH_181122_plus32dB_WGS84.tif'),\n",
       " PosixPath('data/db/HH_plus32dB_WGS84/HH_160707_plus32dB_WGS84.tif'),\n",
       " PosixPath('data/db/HH_plus32dB_WGS84/HH_190103_plus32dB_WGS84.tif'),\n",
       " PosixPath('data/db/HH_plus32dB_WGS84/HH_181220_plus32dB_WGS84.tif')]"
      ]
     },
     "execution_count": 2,
     "metadata": {},
     "output_type": "execute_result"
    }
   ],
   "source": [
    "DB_HH = list(Path('data/db/').glob('*/HH*.tif'))\n",
    "DB_HV = list(Path('data/db/').glob('*/HV*.tif'))\n",
    "DB_HH"
   ]
  },
  {
   "cell_type": "code",
   "execution_count": 3,
   "metadata": {},
   "outputs": [],
   "source": [
    "OUT_DIR = Path('data/')"
   ]
  },
  {
   "cell_type": "code",
   "execution_count": 4,
   "metadata": {},
   "outputs": [],
   "source": [
    "def convert_to_linear(tif_path, pol):\n",
    "    with rasterio.open(tif_path) as ds:\n",
    "        img = ds.read(1)\n",
    "        profile = ds.profile\n",
    "    img[img < -1e10] = np.nan\n",
    "    img_lin = np.power(10, (img)/ 10.)\n",
    "    \n",
    "    dest_dir = (OUT_DIR/pol)\n",
    "    dest_dir.mkdir(exist_ok=True, parents=True)\n",
    "    dest_path = dest_dir/(tif_path.name[:9] + tif_path.name[-4:])\n",
    "    \n",
    "    profile['nodata'] = np.nan\n",
    "    with rasterio.open(dest_path, 'w', **profile) as ds:\n",
    "        ds.write(img_lin, 1)\n",
    "    return dest_path"
   ]
  },
  {
   "cell_type": "code",
   "execution_count": 5,
   "metadata": {},
   "outputs": [
    {
     "name": "stderr",
     "output_type": "stream",
     "text": [
      "100%|██████████| 18/18 [00:04<00:00,  4.05it/s]\n"
     ]
    },
    {
     "data": {
      "text/plain": [
       "[PosixPath('data/hh/HH_181025.tif'),\n",
       " PosixPath('data/hh/HH_190131.tif'),\n",
       " PosixPath('data/hh/HH_160808.tif'),\n",
       " PosixPath('data/hh/HH_160623.tif'),\n",
       " PosixPath('data/hh/HH_160915.tif'),\n",
       " PosixPath('data/hh/HH_190815.tif'),\n",
       " PosixPath('data/hh/HH_161013.tif'),\n",
       " PosixPath('data/hh/HH_190117.tif'),\n",
       " PosixPath('data/hh/HH_181206.tif'),\n",
       " PosixPath('data/hh/HH_180927.tif'),\n",
       " PosixPath('data/hh/HH_160929.tif'),\n",
       " PosixPath('data/hh/HH_190214.tif'),\n",
       " PosixPath('data/hh/HH_190829.tif'),\n",
       " PosixPath('data/hh/HH_181011.tif'),\n",
       " PosixPath('data/hh/HH_181122.tif'),\n",
       " PosixPath('data/hh/HH_160707.tif'),\n",
       " PosixPath('data/hh/HH_190103.tif'),\n",
       " PosixPath('data/hh/HH_181220.tif')]"
      ]
     },
     "execution_count": 5,
     "metadata": {},
     "output_type": "execute_result"
    }
   ],
   "source": [
    "list(starmap(convert_to_linear, zip(tqdm(DB_HH), ['hh'] * len(DB_HV))))"
   ]
  },
  {
   "cell_type": "code",
   "execution_count": 6,
   "metadata": {},
   "outputs": [
    {
     "name": "stderr",
     "output_type": "stream",
     "text": [
      "100%|██████████| 18/18 [00:04<00:00,  4.20it/s]\n"
     ]
    },
    {
     "data": {
      "text/plain": [
       "[PosixPath('data/hv/HV_190117.tif'),\n",
       " PosixPath('data/hv/HV_190815.tif'),\n",
       " PosixPath('data/hv/HV_161013.tif'),\n",
       " PosixPath('data/hv/HV_160915.tif'),\n",
       " PosixPath('data/hv/HV_160623.tif'),\n",
       " PosixPath('data/hv/HV_181025.tif'),\n",
       " PosixPath('data/hv/HV_160808.tif'),\n",
       " PosixPath('data/hv/HV_190131.tif'),\n",
       " PosixPath('data/hv/HV_181220.tif'),\n",
       " PosixPath('data/hv/HV_181122.tif'),\n",
       " PosixPath('data/hv/HV_190103.tif'),\n",
       " PosixPath('data/hv/HV_160707.tif'),\n",
       " PosixPath('data/hv/HV_180927.tif'),\n",
       " PosixPath('data/hv/HV_181011.tif'),\n",
       " PosixPath('data/hv/HV_190829.tif'),\n",
       " PosixPath('data/hv/HV_190214.tif'),\n",
       " PosixPath('data/hv/HV_160929.tif'),\n",
       " PosixPath('data/hv/HV_181206.tif')]"
      ]
     },
     "execution_count": 6,
     "metadata": {},
     "output_type": "execute_result"
    }
   ],
   "source": [
    "list(starmap(convert_to_linear, zip(tqdm(DB_HV), ['hv'] * len(DB_HV))))"
   ]
  },
  {
   "cell_type": "code",
   "execution_count": null,
   "metadata": {},
   "outputs": [],
   "source": []
  }
 ],
 "metadata": {
  "kernelspec": {
   "display_name": "Python 3",
   "language": "python",
   "name": "python3"
  },
  "language_info": {
   "codemirror_mode": {
    "name": "ipython",
    "version": 3
   },
   "file_extension": ".py",
   "mimetype": "text/x-python",
   "name": "python",
   "nbconvert_exporter": "python",
   "pygments_lexer": "ipython3",
   "version": "3.7.3"
  }
 },
 "nbformat": 4,
 "nbformat_minor": 4
}
